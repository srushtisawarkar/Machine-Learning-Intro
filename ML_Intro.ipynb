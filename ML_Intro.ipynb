{
  "nbformat": 4,
  "nbformat_minor": 0,
  "metadata": {
    "colab": {
      "provenance": []
    },
    "kernelspec": {
      "name": "python3",
      "display_name": "Python 3"
    },
    "language_info": {
      "name": "python"
    }
  },
  "cells": [
    {
      "cell_type": "markdown",
      "source": [
        "# Assignment Code: DA-AG-008\n",
        "# Machine Learning Intro | Assignment"
      ],
      "metadata": {
        "id": "M6itjIG4hGkX"
      }
    },
    {
      "cell_type": "markdown",
      "source": [
        "Question 1: Explain the differences between AI, ML, Deep Learning (DL), and Data Science (DS).\n",
        "\n",
        ">>Answer:\n",
        "\n",
        "Artificial Intelligence (AI): The broad field that focuses on building smart machines capable of performing tasks that typically require human intelligence, such as decision-making, problem-solving, and speech recognition.\n",
        "\n",
        "Machine Learning (ML): A subset of AI that allows systems to automatically learn and improve from data without being explicitly programmed. For example, email spam detection.\n",
        "\n",
        "Deep Learning (DL): A specialized branch of ML that uses artificial neural networks with many layers to handle large and complex data like images, videos, and natural language.\n",
        "\n",
        "Data Science (DS): An interdisciplinary field that combines statistics, ML, data analysis, and visualization to extract useful insights and knowledge from raw data."
      ],
      "metadata": {
        "id": "eaFEYhpUhtTR"
      }
    },
    {
      "cell_type": "markdown",
      "source": [
        "Question 2: What are the types of machine learning? Describe each with one real-world example.\n",
        "\n",
        ">>Answer:\n",
        "\n",
        "Supervised Learning: The model is trained using labeled data, meaning both input and output are known. Example: Predicting house prices using past data of houses.\n",
        "\n",
        "Unsupervised Learning: The model works on unlabeled data and finds hidden patterns or groupings. Example: Customer segmentation in marketing campaigns.\n",
        "\n",
        "Reinforcement Learning: The model learns by interacting with an environment and receiving feedback in the form of rewards or penalties. Example: A robot learning to walk or a self-driving car learning to drive."
      ],
      "metadata": {
        "id": "nyJWTm3Eisa6"
      }
    },
    {
      "cell_type": "markdown",
      "source": [
        "Question 3: Define overfitting, underfitting, and the bias-variance tradeoff in machine learning.\n",
        "\n",
        ">>Answer:\n",
        "\n",
        "Overfitting: Happens when a model learns the training data too well, including noise and details, which makes it perform poorly on new unseen data.\n",
        "\n",
        "Underfitting: Happens when a model is too simple and cannot capture the important patterns in the data, leading to poor performance on both training and test sets.\n",
        "\n",
        "Bias-Variance Tradeoff: It refers to the balance between bias (error due to overly simple models) and variance (error due to overly complex models). A good model should find the right balance to generalize well."
      ],
      "metadata": {
        "id": "SO0gpk_8i5_4"
      }
    },
    {
      "cell_type": "markdown",
      "source": [
        "Question 4: What are outliers in a dataset, and list three common techniques for handling them.\n",
        "\n",
        ">>Answer:\n",
        "\n",
        "Outliers are extreme values in a dataset that deviate significantly from other observations and may affect the accuracy of models. For example, if most people earn between 20k–50k and one person earns 10 million, that is an outlier.\n",
        "Techniques to handle outliers:\n",
        "\n",
        "Removal: Delete outlier values if they are due to errors.\n",
        "\n",
        "Transformation: Apply log or square root transformation to reduce the effect.\n",
        "\n",
        "Imputation/Replacement: Replace with mean, median, or nearest value."
      ],
      "metadata": {
        "id": "ZaLhUvwNjQ3_"
      }
    },
    {
      "cell_type": "markdown",
      "source": [
        "Question 5: Explain the process of handling missing values and mention one imputation technique for numerical and one for categorical data.\n",
        "\n",
        ">>Answer:\n",
        "\n",
        "Missing values occur when no data is stored for a variable in the dataset. They can create bias and reduce the accuracy of models, so they must be handled carefully. The process includes identifying missing values, analyzing their pattern, and deciding whether to drop or fill them.\n",
        "\n",
        "For numerical data, one common method is replacing missing values with the mean or median of that column.\n",
        "\n",
        "For categorical data, the missing value can be replaced with the most frequent category (mode)."
      ],
      "metadata": {
        "id": "gedUxnl6jYFp"
      }
    },
    {
      "cell_type": "code",
      "source": [
        "#Question 6: Write a Python program that creates a synthetic imbalanced dataset with make_classification() from sklearn.datasets and prints the class distribution.\n",
        "\n",
        "from sklearn.datasets import make_classification\n",
        "import pandas as pd\n",
        "\n",
        "# Create dataset with imbalance\n",
        "X, y = make_classification(n_samples=1000, n_classes=2,\n",
        "                           weights=[0.9, 0.1], random_state=42)\n",
        "\n",
        "# Print class distribution\n",
        "print(\"Class distribution:\")\n",
        "print(pd.Series(y).value_counts())"
      ],
      "metadata": {
        "colab": {
          "base_uri": "https://localhost:8080/"
        },
        "id": "inV2UBPBjkpQ",
        "outputId": "3f4c27ea-ba1c-41fb-8b67-10882496306b"
      },
      "execution_count": null,
      "outputs": [
        {
          "output_type": "stream",
          "name": "stdout",
          "text": [
            "Class distribution:\n",
            "0    897\n",
            "1    103\n",
            "Name: count, dtype: int64\n"
          ]
        }
      ]
    },
    {
      "cell_type": "code",
      "source": [
        "#Question 7: Implement one-hot encoding using pandas for the following list of colors: ['Red', 'Green', 'Blue', 'Green', 'Red']. Print the resulting dataframe.\n",
        "\n",
        "import pandas as pd\n",
        "\n",
        "colors = ['Red', 'Green', 'Blue', 'Green', 'Red']\n",
        "df = pd.DataFrame(colors, columns=['Color'])\n",
        "encoded = pd.get_dummies(df, columns=['Color'])\n",
        "print(encoded)"
      ],
      "metadata": {
        "colab": {
          "base_uri": "https://localhost:8080/"
        },
        "id": "22yx3YODj08j",
        "outputId": "ae65ea4d-bceb-4dba-81d7-44b7191cfa8a"
      },
      "execution_count": null,
      "outputs": [
        {
          "output_type": "stream",
          "name": "stdout",
          "text": [
            "   Color_Blue  Color_Green  Color_Red\n",
            "0       False        False       True\n",
            "1       False         True      False\n",
            "2        True        False      False\n",
            "3       False         True      False\n",
            "4       False        False       True\n"
          ]
        }
      ]
    },
    {
      "cell_type": "code",
      "source": [
        "#Question 8: Write a Python script to generate 1000 samples from a normal distribution, introduce 50 random missing values, fill missing values with the column mean, and plot histograms before and after imputation.\n",
        "\n",
        "import numpy as np\n",
        "import pandas as pd\n",
        "import matplotlib.pyplot as plt\n",
        "\n",
        "# Generate normal distribution\n",
        "data = np.random.normal(50, 10, 1000)\n",
        "\n",
        "# Introduce 50 missing values\n",
        "data[np.random.choice(1000, 50, replace=False)] = np.nan\n",
        "df = pd.DataFrame(data, columns=['Value'])\n",
        "\n",
        "# Plot before imputation\n",
        "df['Value'].hist(bins=30)\n",
        "plt.title(\"Before Imputation\")\n",
        "plt.show()\n",
        "\n",
        "# Fill missing values with mean\n",
        "df['Value'].fillna(df['Value'].mean(), inplace=True)\n",
        "\n",
        "# Plot after imputation\n",
        "df['Value'].hist(bins=30)\n",
        "plt.title(\"After Imputation\")\n",
        "plt.show()\n"
      ],
      "metadata": {
        "colab": {
          "base_uri": "https://localhost:8080/",
          "height": 1000
        },
        "id": "vWUUuY2JkJ81",
        "outputId": "b27e6e03-7478-4a19-83a6-f2448921d4bd"
      },
      "execution_count": null,
      "outputs": [
        {
          "output_type": "display_data",
          "data": {
            "text/plain": [
              "<Figure size 640x480 with 1 Axes>"
            ],
            "image/png": "[encoded data removed]"
          },
          "metadata": {}
        },
        {
          "output_type": "stream",
          "name": "stderr",
          "text": [
            "/tmp/ipython-input-1542196627.py:20: FutureWarning: A value is trying to be set on a copy of a DataFrame or Series through chained assignment using an inplace method.\n",
            "The behavior will change in pandas 3.0. This inplace method will never work because the intermediate object on which we are setting values always behaves as a copy.\n",
            "\n",
            "For example, when doing 'df[col].method(value, inplace=True)', try using 'df.method({col: value}, inplace=True)' or df[col] = df[col].method(value) instead, to perform the operation inplace on the original object.\n",
            "\n",
            "\n",
            "  df['Value'].fillna(df['Value'].mean(), inplace=True)\n"
          ]
        },
        {
          "output_type": "display_data",
          "data": {
            "text/plain": [
              "<Figure size 640x480 with 1 Axes>"
            ],
            "image/png": "[encoded data removed]"
          },
          "metadata": {}
        }
      ]
    },
    {
      "cell_type": "code",
      "source": [
        "#Question 9: Implement Min-Max scaling on the following list of numbers [2, 5, 10, 15, 20] using sklearn.preprocessing.MinMaxScaler. Print the scaled array.\n",
        "\n",
        "from sklearn.preprocessing import MinMaxScaler\n",
        "import numpy as np\n",
        "\n",
        "data = np.array([[2], [5], [10], [15], [20]])\n",
        "scaler = MinMaxScaler()\n",
        "scaled = scaler.fit_transform(data)\n",
        "print(scaled)\n"
      ],
      "metadata": {
        "colab": {
          "base_uri": "https://localhost:8080/"
        },
        "id": "boTmJzLykZHG",
        "outputId": "cfb67b70-02a8-480d-a688-ff0752b1b6e0"
      },
      "execution_count": null,
      "outputs": [
        {
          "output_type": "stream",
          "name": "stdout",
          "text": [
            "[[0.        ]\n",
            " [0.16666667]\n",
            " [0.44444444]\n",
            " [0.72222222]\n",
            " [1.        ]]\n"
          ]
        }
      ]
    },
    {
      "cell_type": "markdown",
      "source": [
        "Question 10: You are working as a data scientist for a retail company. Explain the step-by-step data preparation plan you’d follow before training a machine learning model.\n",
        "\n",
        ">>Answer:\n",
        "\n",
        "For a retail transaction dataset:\n",
        "\n",
        "Missing Ages: Fill missing ages with the median since it is less affected by outliers.\n",
        "\n",
        "Outliers in Transaction Amount: Detect using methods like IQR or Z-score and either remove or cap them.\n",
        "\n",
        "Imbalanced Target (fraud vs. non-fraud): Use techniques like SMOTE (oversampling), undersampling, or class weights to balance.\n",
        "\n",
        "Categorical Variables (e.g., payment method): Apply one-hot encoding to convert into numerical format.\n",
        "\n",
        "Final Step: Normalize or scale numerical features, then split the dataset into training and testing sets before building models."
      ],
      "metadata": {
        "id": "tfyaTAvWko8b"
      }
    }
  ]
}